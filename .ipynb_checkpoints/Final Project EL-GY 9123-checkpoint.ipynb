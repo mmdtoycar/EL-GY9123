{
 "cells": [
  {
   "cell_type": "markdown",
   "metadata": {},
   "source": [
    "# Project Introduction\n",
    "Pokemon series created by Nintendo is one of the most popular game series in the world. People can capture Pokemon in the game world and train them to combat with others' Pokemon. There are thousands of Pokemon with totally different properties and of course, some of them are stronger than the others.\n",
    "The main purpose of this project is training a model to predict the winner of combats between Pokemons. We downloaded the Pokemon data and combat data from https://www.kaggle.com/sekarmg/pokemon/data which include 800 Pokemon's information with their properties and 50000 combat results.\n",
    "\n",
    "There are two parts of this project. \n",
    "* The first part is a warm-up. In this part, we will train a model to predict if a Pokemon is 'Legendary' according to its properties by SVM.\n",
    "* In the second part, we would like to construct a model to predict the combat result as we mentioned above. We will try different ways to train the data in order to make the predicting accuracy as high as possible."
   ]
  },
  {
   "cell_type": "markdown",
   "metadata": {},
   "source": [
    "## Data Specification"
   ]
  },
  {
   "cell_type": "code",
   "execution_count": 1,
   "metadata": {
    "collapsed": true
   },
   "outputs": [],
   "source": [
    "# import packages\n",
    "import pandas as pd\n",
    "import numpy as np\n",
    "from numpy import argmax\n",
    "from sklearn import svm\n",
    "from sklearn.preprocessing import LabelEncoder\n",
    "from sklearn.preprocessing import OneHotEncoder\n",
    "from sklearn.preprocessing import LabelBinarizer\n",
    "from sklearn import linear_model\n",
    "import numpy.polynomial.polynomial as poly"
   ]
  },
  {
   "cell_type": "code",
   "execution_count": 2,
   "metadata": {
    "collapsed": true
   },
   "outputs": [],
   "source": [
    "# read pokemon data from dataset\n",
    "pk = pd.read_csv('Pokemon.csv', na_values = ['', ' ', 'NaN', np.nan], index_col = 0)\n",
    "pk = np.array(pk)[:,1:]"
   ]
  },
  {
   "cell_type": "code",
   "execution_count": 3,
   "metadata": {
    "collapsed": true
   },
   "outputs": [],
   "source": [
    "# Data preprocessing\n",
    "# merge two type into one\n",
    "type_merge = []\n",
    "for pair in zip(pk[:,0], pk[:,1]):\n",
    "    pair = set(pair)\n",
    "    type_merge.append(pair)\n",
    "values = np.array(type_merge)\n",
    "# transform types into one hot coding\n",
    "label_encoder = LabelEncoder()\n",
    "integer_encoded = label_encoder.fit_transform(values)\n",
    "onehot_encoder = OneHotEncoder(sparse = False)\n",
    "integer_encoded = integer_encoded.reshape(len(integer_encoded), 1)\n",
    "onehot_encoded = onehot_encoder.fit_transform(integer_encoded)\n",
    "pk = np.delete(pk, [0,1], 1)\n",
    "pk = np.hstack((onehot_encoded, pk))\n",
    "# transform bool to int\n",
    "lb = LabelBinarizer()\n",
    "pk[:,-1] = np.transpose(lb.fit_transform(pk[:,-1].tolist()))"
   ]
  },
  {
   "cell_type": "code",
   "execution_count": 4,
   "metadata": {
    "collapsed": true
   },
   "outputs": [],
   "source": [
    "# Take the first 160 rows (20%) to test\n",
    "Xts = pk[:160,:-1]\n",
    "Xtr = pk[161:,:-1]\n",
    "yts = pk[:160,-1]\n",
    "ytr = pk[161:,-1]"
   ]
  },
  {
   "cell_type": "code",
   "execution_count": 5,
   "metadata": {},
   "outputs": [
    {
     "name": "stdout",
     "output_type": "stream",
     "text": [
      "Accuracy = 0.981250\n"
     ]
    }
   ],
   "source": [
    "svc = svm.SVC(probability = False, kernel = \"rbf\", C = 100, gamma = 1, verbose = False)\n",
    "svc.fit(Xtr, ytr.astype(float))\n",
    "yhat = svc.predict(Xts)\n",
    "acc = np.mean(yhat == yts)\n",
    "print('Accuracy = {0:f}'.format(acc))"
   ]
  },
  {
   "cell_type": "code",
   "execution_count": 6,
   "metadata": {
    "collapsed": true
   },
   "outputs": [],
   "source": [
    "# read combats data from dataset\n",
    "cb = pd.read_csv('combats.csv', na_values = ['', ' ', 'NaN', np.nan])\n",
    "pk = pd.read_csv('pokemon_new.csv', na_values = ['', ' ', 'NaN', np.nan])\n",
    "pk = np.array(pk)\n",
    "type_merge = []\n",
    "for pair in zip(pk[:,2], pk[:,3]):\n",
    "    pair = set(pair)\n",
    "    type_merge.append(pair)\n",
    "values = np.array(type_merge)\n",
    "label_encoder = LabelEncoder()\n",
    "integer_encoded = label_encoder.fit_transform(values)\n",
    "onehot_encoder = OneHotEncoder(sparse = False)\n",
    "integer_encoded = integer_encoded.reshape(len(integer_encoded), 1)\n",
    "onehot_encoded = onehot_encoder.fit_transform(integer_encoded)\n",
    "onehot_len = onehot_encoded.shape[1]\n",
    "pk = np.delete(pk, [1,2,3], 1)\n",
    "pk = np.insert(pk, [1], onehot_encoded, axis = 1)\n",
    "pk = np.delete(pk, -1, 1) # Delete the Legendary column\n",
    "pk = np.delete(pk, -1, 1) # Delete the Generation column\n",
    "\n",
    "cb = np.array(cb)\n",
    "Xtr_cb = cb[:cb.shape[0]*4//5]\n",
    "Xts_cb = cb[cb.shape[0]*4//5+1:]\n",
    "ytr = []\n",
    "yts = []\n",
    "# If the first Pokemon win, label y as 1, if the second Pokemon win label y as 0\n",
    "for pair in Xtr_cb:\n",
    "    if pair[2] == pair[0]: ytr.append(1)\n",
    "    else: ytr.append(0)\n",
    "for pair in Xts_cb:\n",
    "    if pair[2] == pair[0]: yts.append(1)\n",
    "    else: yts.append(0)\n",
    "ytr = np.array(ytr)\n",
    "yts = np.array(yts)"
   ]
  },
  {
   "cell_type": "code",
   "execution_count": 7,
   "metadata": {
    "scrolled": true
   },
   "outputs": [
    {
     "name": "stdout",
     "output_type": "stream",
     "text": [
      "(40000, 1048)\n",
      "521\n",
      "Accuracy = 0.889289\n"
     ]
    }
   ],
   "source": [
    "Xtr_new = np.zeros((Xtr_cb.shape[0], pk.shape[1]-1+onehot_len))\n",
    "Xts_new = np.zeros((Xts_cb.shape[0], pk.shape[1]-1+onehot_len))\n",
    "for i, pair in enumerate(Xtr_cb):\n",
    "    Xtr_new[i] = np.concatenate((pk[pair[0]-1,1:onehot_len+1], pk[pair[1]-1,1:onehot_len+1], pk[pair[0]-1,onehot_len+1:]-pk[pair[1]-1,onehot_len+1:]))\n",
    "for i, pair in enumerate(Xts_cb):\n",
    "    Xts_new[i] = np.concatenate((pk[pair[0]-1,1:onehot_len+1], pk[pair[1]-1,1:onehot_len+1], pk[pair[0]-1,onehot_len+1:]-pk[pair[1]-1,onehot_len+1:]))\n",
    "print(Xtr_new.shape)\n",
    "print(onehot_len)\n",
    "logreg = linear_model.LogisticRegression()\n",
    "logreg.fit(Xtr_new, ytr)\n",
    "yhat = logreg.predict(Xts_new)\n",
    "acc = np.mean(yhat == yts)\n",
    "print(\"Accuracy = {0:f}\".format(acc))"
   ]
  },
  {
   "cell_type": "code",
   "execution_count": 8,
   "metadata": {},
   "outputs": [
    {
     "name": "stdout",
     "output_type": "stream",
     "text": [
      "Accuracy = 0.915292\n"
     ]
    }
   ],
   "source": [
    "svc = svm.SVC(probability = False, kernel = \"linear\", C = .0073, gamma = 2.8, verbose = False)\n",
    "svc.fit(Xtr_new, ytr.astype(float))\n",
    "yhat = svc.predict(Xts_new)\n",
    "acc = np.mean(yhat == yts)\n",
    "print('Accuracy = {0:f}'.format(acc))"
   ]
  },
  {
   "cell_type": "code",
   "execution_count": null,
   "metadata": {
    "collapsed": true
   },
   "outputs": [],
   "source": []
  }
 ],
 "metadata": {
  "kernelspec": {
   "display_name": "Python 3",
   "language": "python",
   "name": "python3"
  },
  "language_info": {
   "codemirror_mode": {
    "name": "ipython",
    "version": 3
   },
   "file_extension": ".py",
   "mimetype": "text/x-python",
   "name": "python",
   "nbconvert_exporter": "python",
   "pygments_lexer": "ipython3",
   "version": "3.6.2"
  }
 },
 "nbformat": 4,
 "nbformat_minor": 2
}
